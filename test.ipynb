{
 "cells": [
  {
   "cell_type": "code",
   "execution_count": 1,
   "id": "6790f0de-6ad3-4e27-bd06-51a4cd285c24",
   "metadata": {},
   "outputs": [
    {
     "data": {
      "text/html": [
       "<div>\n",
       "<style scoped>\n",
       "    .dataframe tbody tr th:only-of-type {\n",
       "        vertical-align: middle;\n",
       "    }\n",
       "\n",
       "    .dataframe tbody tr th {\n",
       "        vertical-align: top;\n",
       "    }\n",
       "\n",
       "    .dataframe thead th {\n",
       "        text-align: right;\n",
       "    }\n",
       "</style>\n",
       "<table border=\"1\" class=\"dataframe\">\n",
       "  <thead>\n",
       "    <tr style=\"text-align: right;\">\n",
       "      <th></th>\n",
       "      <th>id</th>\n",
       "      <th>nombre</th>\n",
       "      <th>nivel</th>\n",
       "    </tr>\n",
       "  </thead>\n",
       "  <tbody>\n",
       "    <tr>\n",
       "      <th>0</th>\n",
       "      <td>206</td>\n",
       "      <td>Cables y Conectores</td>\n",
       "      <td>2</td>\n",
       "    </tr>\n",
       "    <tr>\n",
       "      <th>1</th>\n",
       "      <td>208</td>\n",
       "      <td>EnergÃ­a</td>\n",
       "      <td>2</td>\n",
       "    </tr>\n",
       "    <tr>\n",
       "      <th>2</th>\n",
       "      <td>214</td>\n",
       "      <td>CÃ¡maras IP y NVRs</td>\n",
       "      <td>2</td>\n",
       "    </tr>\n",
       "    <tr>\n",
       "      <th>3</th>\n",
       "      <td>218</td>\n",
       "      <td>Accesorios Generales</td>\n",
       "      <td>2</td>\n",
       "    </tr>\n",
       "    <tr>\n",
       "      <th>4</th>\n",
       "      <td>219</td>\n",
       "      <td>Kits- Sistemas Completos</td>\n",
       "      <td>2</td>\n",
       "    </tr>\n",
       "  </tbody>\n",
       "</table>\n",
       "</div>"
      ],
      "text/plain": [
       "    id                    nombre nivel\n",
       "0  206       Cables y Conectores     2\n",
       "1  208                  EnergÃ­a     2\n",
       "2  214        CÃ¡maras IP y NVRs     2\n",
       "3  218      Accesorios Generales     2\n",
       "4  219  Kits- Sistemas Completos     2"
      ]
     },
     "execution_count": 1,
     "metadata": {},
     "output_type": "execute_result"
    }
   ],
   "source": [
    "import pandas as pd\n",
    "import json\n",
    "\n",
    "with open(\"./Data/Categories.json\") as f:\n",
    "    data = json.load(f)\n",
    "\n",
    "df = pd.DataFrame(data['subcategorias'])\n",
    "\n",
    "df.head()"
   ]
  },
  {
   "cell_type": "code",
   "execution_count": 3,
   "id": "1b435b81-eee7-4a22-98eb-570b8336951a",
   "metadata": {},
   "outputs": [
    {
     "data": {
      "text/html": [
       "<div>\n",
       "<style scoped>\n",
       "    .dataframe tbody tr th:only-of-type {\n",
       "        vertical-align: middle;\n",
       "    }\n",
       "\n",
       "    .dataframe tbody tr th {\n",
       "        vertical-align: top;\n",
       "    }\n",
       "\n",
       "    .dataframe thead th {\n",
       "        text-align: right;\n",
       "    }\n",
       "</style>\n",
       "<table border=\"1\" class=\"dataframe\">\n",
       "  <thead>\n",
       "    <tr style=\"text-align: right;\">\n",
       "      <th></th>\n",
       "      <th>id</th>\n",
       "      <th>first_name</th>\n",
       "      <th>last_name</th>\n",
       "      <th>email</th>\n",
       "      <th>user_name</th>\n",
       "      <th>password</th>\n",
       "      <th>hashed_password</th>\n",
       "      <th>street</th>\n",
       "      <th>city</th>\n",
       "      <th>state</th>\n",
       "      <th>postal_code</th>\n",
       "      <th>billing_address</th>\n",
       "      <th>shipping_address</th>\n",
       "      <th>card_number_1</th>\n",
       "      <th>card_number_2</th>\n",
       "      <th>card_number_3</th>\n",
       "    </tr>\n",
       "  </thead>\n",
       "  <tbody>\n",
       "    <tr>\n",
       "      <th>0</th>\n",
       "      <td>1</td>\n",
       "      <td>Tamarra</td>\n",
       "      <td>Cattanach</td>\n",
       "      <td>tcattanach0@arizona.edu</td>\n",
       "      <td>tcattanach0</td>\n",
       "      <td>zd8K9u62VItP</td>\n",
       "      <td>6b975e863ab3c1415e30d570320692de17cce11a2d4b72...</td>\n",
       "      <td>83011 Center Crossing</td>\n",
       "      <td>South Lake Tahoe</td>\n",
       "      <td>CA</td>\n",
       "      <td>96154</td>\n",
       "      <td>True</td>\n",
       "      <td>True</td>\n",
       "      <td>5048373844004527</td>\n",
       "      <td>None</td>\n",
       "      <td>None</td>\n",
       "    </tr>\n",
       "    <tr>\n",
       "      <th>1</th>\n",
       "      <td>2</td>\n",
       "      <td>Schuyler</td>\n",
       "      <td>Bilney</td>\n",
       "      <td>sbilney1@craigslist.org</td>\n",
       "      <td>sbilney1</td>\n",
       "      <td>OrUMAv</td>\n",
       "      <td>d834c51ea404fe2956df259368b300001f74a2adf208dd...</td>\n",
       "      <td>7 Mccormick Avenue</td>\n",
       "      <td>Akron</td>\n",
       "      <td>OH</td>\n",
       "      <td>44393</td>\n",
       "      <td>False</td>\n",
       "      <td>True</td>\n",
       "      <td>5108756109253457</td>\n",
       "      <td>5048370952502565</td>\n",
       "      <td>5048377030040427</td>\n",
       "    </tr>\n",
       "    <tr>\n",
       "      <th>2</th>\n",
       "      <td>3</td>\n",
       "      <td>Solly</td>\n",
       "      <td>Sarchwell</td>\n",
       "      <td>ssarchwell2@loc.gov</td>\n",
       "      <td>ssarchwell2</td>\n",
       "      <td>I2hzRJXooxak</td>\n",
       "      <td>a4815e04935c5ead0db1a63e7fe164d66fc52c9bedfde0...</td>\n",
       "      <td>99 Rockefeller Drive</td>\n",
       "      <td>Dallas</td>\n",
       "      <td>TX</td>\n",
       "      <td>75265</td>\n",
       "      <td>False</td>\n",
       "      <td>True</td>\n",
       "      <td>5108756305774058</td>\n",
       "      <td>5108753440175523</td>\n",
       "      <td>None</td>\n",
       "    </tr>\n",
       "    <tr>\n",
       "      <th>3</th>\n",
       "      <td>4</td>\n",
       "      <td>Reinwald</td>\n",
       "      <td>Boston</td>\n",
       "      <td>rboston3@wufoo.com</td>\n",
       "      <td>rboston3</td>\n",
       "      <td>cyPyKCbfKE</td>\n",
       "      <td>b8bb10f78a8f4e1ea103a40f9510dac3a8b2a6c8a32e84...</td>\n",
       "      <td>0 Daystar Plaza</td>\n",
       "      <td>Santa Barbara</td>\n",
       "      <td>CA</td>\n",
       "      <td>93106</td>\n",
       "      <td>True</td>\n",
       "      <td>False</td>\n",
       "      <td>5108752752237038</td>\n",
       "      <td>None</td>\n",
       "      <td>None</td>\n",
       "    </tr>\n",
       "    <tr>\n",
       "      <th>4</th>\n",
       "      <td>5</td>\n",
       "      <td>Tessa</td>\n",
       "      <td>Dellar</td>\n",
       "      <td>tdellar4@google.ca</td>\n",
       "      <td>tdellar4</td>\n",
       "      <td>EHJofnNvwsNO</td>\n",
       "      <td>adf3145161460a92a87ffd6a401463c711aa4d9efaa713...</td>\n",
       "      <td>99871 Logan Plaza</td>\n",
       "      <td>Washington</td>\n",
       "      <td>DC</td>\n",
       "      <td>20456</td>\n",
       "      <td>False</td>\n",
       "      <td>True</td>\n",
       "      <td>5048374167198789</td>\n",
       "      <td>5048370774349583</td>\n",
       "      <td>None</td>\n",
       "    </tr>\n",
       "  </tbody>\n",
       "</table>\n",
       "</div>"
      ],
      "text/plain": [
       "   id first_name  last_name                    email    user_name  \\\n",
       "0   1    Tamarra  Cattanach  tcattanach0@arizona.edu  tcattanach0   \n",
       "1   2   Schuyler     Bilney  sbilney1@craigslist.org     sbilney1   \n",
       "2   3      Solly  Sarchwell      ssarchwell2@loc.gov  ssarchwell2   \n",
       "3   4   Reinwald     Boston       rboston3@wufoo.com     rboston3   \n",
       "4   5      Tessa     Dellar       tdellar4@google.ca     tdellar4   \n",
       "\n",
       "       password                                    hashed_password  \\\n",
       "0  zd8K9u62VItP  6b975e863ab3c1415e30d570320692de17cce11a2d4b72...   \n",
       "1        OrUMAv  d834c51ea404fe2956df259368b300001f74a2adf208dd...   \n",
       "2  I2hzRJXooxak  a4815e04935c5ead0db1a63e7fe164d66fc52c9bedfde0...   \n",
       "3    cyPyKCbfKE  b8bb10f78a8f4e1ea103a40f9510dac3a8b2a6c8a32e84...   \n",
       "4  EHJofnNvwsNO  adf3145161460a92a87ffd6a401463c711aa4d9efaa713...   \n",
       "\n",
       "                  street              city state postal_code  billing_address  \\\n",
       "0  83011 Center Crossing  South Lake Tahoe    CA       96154             True   \n",
       "1     7 Mccormick Avenue             Akron    OH       44393            False   \n",
       "2   99 Rockefeller Drive            Dallas    TX       75265            False   \n",
       "3        0 Daystar Plaza     Santa Barbara    CA       93106             True   \n",
       "4      99871 Logan Plaza        Washington    DC       20456            False   \n",
       "\n",
       "   shipping_address     card_number_1     card_number_2     card_number_3  \n",
       "0              True  5048373844004527              None              None  \n",
       "1              True  5108756109253457  5048370952502565  5048377030040427  \n",
       "2              True  5108756305774058  5108753440175523              None  \n",
       "3             False  5108752752237038              None              None  \n",
       "4              True  5048374167198789  5048370774349583              None  "
      ]
     },
     "execution_count": 3,
     "metadata": {},
     "output_type": "execute_result"
    }
   ],
   "source": [
    "with open(\"./Data/ecommerce_users.json\") as f:\n",
    "    data = json.load(f)\n",
    "\n",
    "df = pd.DataFrame(data)\n",
    "df.head()"
   ]
  },
  {
   "cell_type": "code",
   "execution_count": 4,
   "id": "422f98c3-191b-496f-b3ff-6e9d7f923a12",
   "metadata": {},
   "outputs": [],
   "source": [
    "with open(\"./Data/Hikvision_products.json\", encoding = \"utf8\") as f:\n",
    "    data = json.load(f)\n"
   ]
  },
  {
   "cell_type": "code",
   "execution_count": 5,
   "id": "14a3ca2f-8e59-4a86-82b0-71a50e59256e",
   "metadata": {},
   "outputs": [
    {
     "data": {
      "text/plain": [
       "'Videovigilancia'"
      ]
     },
     "execution_count": 5,
     "metadata": {},
     "output_type": "execute_result"
    }
   ],
   "source": [
    "data[0]['productos'][0]['categorias'][2]['nombre']"
   ]
  },
  {
   "cell_type": "code",
   "execution_count": 6,
   "id": "ce5aa4fc-641e-4e1b-976c-2c191b10cc55",
   "metadata": {},
   "outputs": [
    {
     "data": {
      "text/plain": [
       "list"
      ]
     },
     "execution_count": 6,
     "metadata": {},
     "output_type": "execute_result"
    }
   ],
   "source": [
    "type(data)"
   ]
  },
  {
   "cell_type": "code",
   "execution_count": 7,
   "id": "e756c1a2-9a0f-4827-b151-2f37a22abe63",
   "metadata": {},
   "outputs": [],
   "source": [
    "from pydantic import BaseModel\n",
    "from datetime import datetime\n",
    "\n",
    "class Products(BaseModel):\n",
    "    product_id: int\n",
    "    description: str\n",
    "    sku: str\n",
    "    suggested_price: float\n",
    "    partner_price: float\n",
    "    current_stock: int\n",
    "    stock_lastupdate: datetime\n",
    "    tax_code: str\n",
    "    tax_unit_code: str\n",
    "    wv_ratio: str\n",
    "    weight: str\n",
    "    length: str\n",
    "    width: str\n",
    "    height: str\n",
    "    brit_unit: bool\n",
    "    "
   ]
  },
  {
   "cell_type": "code",
   "execution_count": 8,
   "id": "15849d40-ccb8-4cb2-82e0-7dbcc3d18950",
   "metadata": {},
   "outputs": [
    {
     "data": {
      "text/plain": [
       "60"
      ]
     },
     "execution_count": 8,
     "metadata": {},
     "output_type": "execute_result"
    }
   ],
   "source": [
    "len(data[0]['productos'])"
   ]
  },
  {
   "cell_type": "code",
   "execution_count": 9,
   "id": "b9c52288-fcbe-47d3-a58e-f0b2b4e0c30c",
   "metadata": {},
   "outputs": [],
   "source": [
    "products = []\n",
    "for i in range(len(data)):\n",
    "    for j in range(len(data[i]['productos'])):\n",
    "        dct = data[0]['productos'][j]\n",
    "        p = Products(product_id = dct['producto_id'], description=dct['descripcion'], sku = dct['total_existencia'],\n",
    "                    suggested_price = dct['precios']['precio_1'], partner_price = dct['precios']['precio_especial'],\n",
    "                    current_stock = dct['existencia']['nuevo'], stock_lastupdate = datetime.utcnow(), tax_code = dct['sat_key'],\n",
    "                    tax_unit_code = dct['unidad_de_medida']['clave_unidad_sat'], wv_ratio = dct['pvol'], weight = dct['peso'],\n",
    "                    length = dct['largo'], width = dct['ancho'], height = dct['alto'], brit_unit = dct['unidad_de_medida']['codigo_unidad'])\n",
    "        products.append(p)"
   ]
  },
  {
   "cell_type": "code",
   "execution_count": 147,
   "id": "1390e924-ea4e-443d-a913-1062b898f575",
   "metadata": {},
   "outputs": [],
   "source": [
    "with open(\"./Data/Categories.json\", encoding=\"utf8\") as data_file:\n",
    "    cat_data = json.load(data_file)\n",
    "    "
   ]
  },
  {
   "cell_type": "code",
   "execution_count": 151,
   "id": "b3796a02-b57e-4229-871b-f56c457d4afe",
   "metadata": {},
   "outputs": [
    {
     "data": {
      "text/plain": [
       "{'id': '206', 'nombre': 'Cables y Conectores', 'nivel': '2'}"
      ]
     },
     "execution_count": 151,
     "metadata": {},
     "output_type": "execute_result"
    }
   ],
   "source": [
    "cat_data['subcategorias'][0]"
   ]
  },
  {
   "cell_type": "code",
   "execution_count": 11,
   "id": "e954e593-c778-4838-853d-3e1438427f8b",
   "metadata": {},
   "outputs": [
    {
     "data": {
      "text/plain": [
       "420"
      ]
     },
     "execution_count": 11,
     "metadata": {},
     "output_type": "execute_result"
    }
   ],
   "source": [
    "len(products)"
   ]
  },
  {
   "cell_type": "code",
   "execution_count": 17,
   "id": "da073e73-f0ca-4b47-9c07-7d8c1f6ea782",
   "metadata": {},
   "outputs": [],
   "source": [
    "prueba = []\n",
    "a = {\"a\":\"hola\"}\n",
    "b = {\"a\":\"hola\"}\n",
    "prueba.append(a)"
   ]
  },
  {
   "cell_type": "code",
   "execution_count": 20,
   "id": "4e629ef4-5353-4fa8-ac17-1165c5ebfb13",
   "metadata": {},
   "outputs": [],
   "source": [
    "if {\"a\":\"hola\"} in prueba:\n",
    "    prueba.append(b)"
   ]
  },
  {
   "cell_type": "code",
   "execution_count": 21,
   "id": "0c2d253c-ddac-43b7-bc59-7c5bb5662f74",
   "metadata": {},
   "outputs": [
    {
     "data": {
      "text/plain": [
       "[{'a': 'hola'}, {'a': 'hola'}]"
      ]
     },
     "execution_count": 21,
     "metadata": {},
     "output_type": "execute_result"
    }
   ],
   "source": [
    "prueba"
   ]
  },
  {
   "cell_type": "code",
   "execution_count": 22,
   "id": "b84e7cea-df29-40c5-9732-3ba2acf6e4b0",
   "metadata": {},
   "outputs": [],
   "source": [
    "products = []\n",
    "with open(\"./Data/Hikvision_products.json\",encoding=\"utf8\") as prod_file:\n",
    "    prod_data = json.load(prod_file)"
   ]
  },
  {
   "cell_type": "code",
   "execution_count": 25,
   "id": "de56c33a-866e-45ed-8b58-2a507c1fa3d1",
   "metadata": {},
   "outputs": [],
   "source": [
    "unique_products = []\n",
    "for i in prod_data:\n",
    "    if i not in unique_products:\n",
    "        unique_products.append(i)"
   ]
  },
  {
   "cell_type": "code",
   "execution_count": 26,
   "id": "24f2ed09-d6b6-495e-957d-653895ae0087",
   "metadata": {},
   "outputs": [
    {
     "data": {
      "text/plain": [
       "7"
      ]
     },
     "execution_count": 26,
     "metadata": {},
     "output_type": "execute_result"
    }
   ],
   "source": [
    "len(prod_data)"
   ]
  },
  {
   "cell_type": "code",
   "execution_count": 27,
   "id": "90cfe7f6-922d-4f5d-af63-c5b4fae46385",
   "metadata": {},
   "outputs": [
    {
     "data": {
      "text/plain": [
       "6"
      ]
     },
     "execution_count": 27,
     "metadata": {},
     "output_type": "execute_result"
    }
   ],
   "source": [
    "len(unique_products)"
   ]
  },
  {
   "cell_type": "code",
   "execution_count": null,
   "id": "05174028-87db-4772-951e-3b76248bfc09",
   "metadata": {},
   "outputs": [],
   "source": []
  }
 ],
 "metadata": {
  "kernelspec": {
   "display_name": "Python 3 (ipykernel)",
   "language": "python",
   "name": "python3"
  },
  "language_info": {
   "codemirror_mode": {
    "name": "ipython",
    "version": 3
   },
   "file_extension": ".py",
   "mimetype": "text/x-python",
   "name": "python",
   "nbconvert_exporter": "python",
   "pygments_lexer": "ipython3",
   "version": "3.10.2"
  },
  "vscode": {
   "interpreter": {
    "hash": "4f50d3cdb1ebed2ca10cb5fc5d7fb177e8ddc7cbcf12949e20becc9bfb3f5ac5"
   }
  }
 },
 "nbformat": 4,
 "nbformat_minor": 5
}
